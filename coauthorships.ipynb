{
 "metadata": {
  "language_info": {
   "codemirror_mode": {
    "name": "ipython",
    "version": 3
   },
   "file_extension": ".py",
   "mimetype": "text/x-python",
   "name": "python",
   "nbconvert_exporter": "python",
   "pygments_lexer": "ipython3",
   "version": "3.7.6-final"
  },
  "orig_nbformat": 2,
  "kernelspec": {
   "name": "Python 3.7.6 64-bit ('anaconda3': virtualenv)",
   "display_name": "Python 3.7.6 64-bit ('anaconda3': virtualenv)",
   "metadata": {
    "interpreter": {
     "hash": "a0fcaeb8c233204f51219f146ee9b5546e15e9e7f63a19859b10f30bcbbec438"
    }
   }
  }
 },
 "nbformat": 4,
 "nbformat_minor": 2,
 "cells": [
  {
   "cell_type": "code",
   "execution_count": 3,
   "metadata": {
    "tags": []
   },
   "outputs": [],
   "source": [
    "import pandas as pd\n",
    "import matplotlib.pyplot as plt\n",
    "\n",
    "\n",
    "from scholarly import scholarly\n",
    "import re\n",
    "import networkx as nx\n",
    "\n",
    "from coauthorship import *\n",
    "\n",
    "%matplotlib inline"
   ]
  },
  {
   "cell_type": "code",
   "execution_count": 5,
   "metadata": {
    "tags": []
   },
   "outputs": [
    {
     "output_type": "stream",
     "name": "stdout",
     "text": "{&#39;affiliation&#39;: &#39;MSCA-IF Fellow, Université de Nantes&#39;,\n &#39;citedby&#39;: 125,\n &#39;email&#39;: &#39;@univ-nantes.fr&#39;,\n &#39;filled&#39;: False,\n &#39;id&#39;: &#39;QOi1XIEAAAAJ&#39;,\n &#39;interests&#39;: [&#39;geodynamics&#39;, &#39;planetary cores&#39;, &#39;2-phase flow&#39;],\n &#39;name&#39;: &#39;Marine Lasbleis&#39;,\n &#39;url_picture&#39;: &#39;https://scholar.google.com/citations?view_op=medium_photo&amp;user=QOi1XIEAAAAJ&#39;}\n"
    }
   ],
   "source": [
    "\n",
    "name = 'Marine Lasbleis'\n",
    "short_name = \"M Lasbleis\"\n",
    "\n",
    "search_query = scholarly.search_author('Marine Lasbleis')\n",
    "author = next(search_query)#.fill()\n",
    "print(author)"
   ]
  },
  {
   "cell_type": "code",
   "execution_count": 6,
   "metadata": {},
   "outputs": [],
   "source": [
    "author = author.fill() # add info about co authors and publications"
   ]
  },
  {
   "cell_type": "code",
   "execution_count": null,
   "metadata": {},
   "outputs": [],
   "source": [
    "\n",
    "author_list = {}\n",
    "\n",
    "\n",
    "\n",
    "relationships = pd.DataFrame(0, index=[short_name], columns=[short_name])\n",
    "for pub in author.publications:\n",
    "    #print(pub)\n",
    "    if float(pub.bib[\"cites\"])> 0:  #only the papers that have been cited at least once\n",
    "        pub_complete = pub.fill()\n",
    "        print(pub_complete.bib[\"title\"])\n",
    "        authors = pub_complete.bib[\"author\"]\n",
    "        authors = re.split(\" and \", authors)\n",
    "        #print(authors)\n",
    "        single_paper = []\n",
    "        for author_name in authors: \n",
    "            single_author = format_name_authors(author_name)\n",
    "            author_list = add_author(author_list, single_author)\n",
    "            single_paper.append(single_author)\n",
    "            if single_author not in relationships.columns:\n",
    "                relationships[single_author] = 0.\n",
    "                #print(relationships)\n",
    "                new_line = pd.DataFrame(0, index=[single_author], columns=relationships.columns)\n",
    "                relationships = relationships.append(new_line)\n",
    "        for author1 in single_paper:\n",
    "            for author2 in single_paper:\n",
    "                if author1 != author2:\n",
    "                    relationships[author1][author2] += 1\n",
    "        # add authors in columns and lines in the pandaframe relationships\n",
    "        # add the relationships for each couples in the author list (if author list is longer than 1!)\n",
    "\n",
    "\n",
    "print(author_list)    \n",
    "print(relationships)"
   ]
  }
 ]
}